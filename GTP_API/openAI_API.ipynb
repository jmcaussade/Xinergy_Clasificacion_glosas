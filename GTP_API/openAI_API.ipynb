{
 "cells": [
  {
   "cell_type": "markdown",
   "metadata": {},
   "source": [
    "# Imports and dependencies"
   ]
  },
  {
   "cell_type": "code",
   "execution_count": 1,
   "metadata": {},
   "outputs": [
    {
     "name": "stdout",
     "output_type": "stream",
     "text": [
      "Requirement already satisfied: openai in c:\\python311\\lib\\site-packages (1.59.6)\n",
      "Requirement already satisfied: anyio<5,>=3.5.0 in c:\\python311\\lib\\site-packages (from openai) (4.8.0)\n",
      "Requirement already satisfied: distro<2,>=1.7.0 in c:\\python311\\lib\\site-packages (from openai) (1.9.0)\n",
      "Requirement already satisfied: httpx<1,>=0.23.0 in c:\\python311\\lib\\site-packages (from openai) (0.28.1)\n",
      "Requirement already satisfied: jiter<1,>=0.4.0 in c:\\python311\\lib\\site-packages (from openai) (0.8.2)\n",
      "Requirement already satisfied: pydantic<3,>=1.9.0 in c:\\python311\\lib\\site-packages (from openai) (2.10.5)\n",
      "Requirement already satisfied: sniffio in c:\\python311\\lib\\site-packages (from openai) (1.3.1)\n",
      "Requirement already satisfied: tqdm>4 in c:\\python311\\lib\\site-packages (from openai) (4.67.1)\n",
      "Requirement already satisfied: typing-extensions<5,>=4.11 in c:\\users\\lenovo\\appdata\\roaming\\python\\python311\\site-packages (from openai) (4.12.2)\n",
      "Requirement already satisfied: idna>=2.8 in c:\\python311\\lib\\site-packages (from anyio<5,>=3.5.0->openai) (3.7)\n",
      "Requirement already satisfied: certifi in c:\\python311\\lib\\site-packages (from httpx<1,>=0.23.0->openai) (2024.12.14)\n",
      "Requirement already satisfied: httpcore==1.* in c:\\python311\\lib\\site-packages (from httpx<1,>=0.23.0->openai) (1.0.7)\n",
      "Requirement already satisfied: h11<0.15,>=0.13 in c:\\python311\\lib\\site-packages (from httpcore==1.*->httpx<1,>=0.23.0->openai) (0.14.0)\n",
      "Requirement already satisfied: annotated-types>=0.6.0 in c:\\python311\\lib\\site-packages (from pydantic<3,>=1.9.0->openai) (0.7.0)\n",
      "Requirement already satisfied: pydantic-core==2.27.2 in c:\\python311\\lib\\site-packages (from pydantic<3,>=1.9.0->openai) (2.27.2)\n",
      "Requirement already satisfied: colorama in c:\\python311\\lib\\site-packages (from tqdm>4->openai) (0.4.6)\n"
     ]
    },
    {
     "name": "stderr",
     "output_type": "stream",
     "text": [
      "\n",
      "[notice] A new release of pip is available: 23.2.1 -> 24.3.1\n",
      "[notice] To update, run: python.exe -m pip install --upgrade pip\n"
     ]
    },
    {
     "name": "stdout",
     "output_type": "stream",
     "text": [
      "Requirement already satisfied: python-dotenv in c:\\python311\\lib\\site-packages (1.0.1)\n"
     ]
    },
    {
     "name": "stderr",
     "output_type": "stream",
     "text": [
      "\n",
      "[notice] A new release of pip is available: 23.2.1 -> 24.3.1\n",
      "[notice] To update, run: python.exe -m pip install --upgrade pip\n"
     ]
    }
   ],
   "source": [
    "! pip install openai\n",
    "! pip install python-dotenv\n"
   ]
  },
  {
   "cell_type": "code",
   "execution_count": 2,
   "metadata": {},
   "outputs": [],
   "source": [
    "from dotenv import load_dotenv\n",
    "from openai import OpenAI\n",
    "import os\n",
    "import pandas as pd"
   ]
  },
  {
   "cell_type": "markdown",
   "metadata": {},
   "source": [
    "# OpenAI key"
   ]
  },
  {
   "cell_type": "code",
   "execution_count": 3,
   "metadata": {},
   "outputs": [
    {
     "data": {
      "text/plain": [
       "True"
      ]
     },
     "execution_count": 3,
     "metadata": {},
     "output_type": "execute_result"
    }
   ],
   "source": [
    "load_dotenv()\n"
   ]
  },
  {
   "cell_type": "code",
   "execution_count": 4,
   "metadata": {},
   "outputs": [],
   "source": [
    "# Access the API key\n",
    "client = OpenAI(\n",
    "    api_key=os.environ.get(\"OPENAI_API_KEY\"),  # This is the default and can be omitted\n",
    ")"
   ]
  },
  {
   "cell_type": "code",
   "execution_count": 5,
   "metadata": {},
   "outputs": [
    {
     "name": "stdout",
     "output_type": "stream",
     "text": [
      "SyncPage[Model](data=[Model(id='gpt-4o-audio-preview-2024-10-01', created=1727389042, object='model', owned_by='system'), Model(id='gpt-4o-mini-audio-preview', created=1734387424, object='model', owned_by='system'), Model(id='gpt-4o-realtime-preview-2024-10-01', created=1727131766, object='model', owned_by='system'), Model(id='gpt-4o-mini-audio-preview-2024-12-17', created=1734115920, object='model', owned_by='system'), Model(id='gpt-4o-mini-realtime-preview', created=1734387380, object='model', owned_by='system'), Model(id='dall-e-2', created=1698798177, object='model', owned_by='system'), Model(id='gpt-4-1106-preview', created=1698957206, object='model', owned_by='system'), Model(id='gpt-4o-realtime-preview-2024-12-17', created=1733945430, object='model', owned_by='system'), Model(id='gpt-3.5-turbo', created=1677610602, object='model', owned_by='openai'), Model(id='gpt-3.5-turbo-0125', created=1706048358, object='model', owned_by='system'), Model(id='gpt-3.5-turbo-instruct', created=1692901427, object='model', owned_by='system'), Model(id='babbage-002', created=1692634615, object='model', owned_by='system'), Model(id='o1-mini', created=1725649008, object='model', owned_by='system'), Model(id='o1-mini-2024-09-12', created=1725648979, object='model', owned_by='system'), Model(id='whisper-1', created=1677532384, object='model', owned_by='openai-internal'), Model(id='dall-e-3', created=1698785189, object='model', owned_by='system'), Model(id='gpt-4o-2024-08-06', created=1722814719, object='model', owned_by='system'), Model(id='gpt-3.5-turbo-16k', created=1683758102, object='model', owned_by='openai-internal'), Model(id='omni-moderation-latest', created=1731689265, object='model', owned_by='system'), Model(id='o1-preview-2024-09-12', created=1725648865, object='model', owned_by='system'), Model(id='omni-moderation-2024-09-26', created=1732734466, object='model', owned_by='system'), Model(id='tts-1-hd-1106', created=1699053533, object='model', owned_by='system'), Model(id='o1-preview', created=1725648897, object='model', owned_by='system'), Model(id='gpt-4o', created=1715367049, object='model', owned_by='system'), Model(id='gpt-4', created=1687882411, object='model', owned_by='openai'), Model(id='gpt-4-0613', created=1686588896, object='model', owned_by='openai'), Model(id='gpt-4o-mini', created=1721172741, object='model', owned_by='system'), Model(id='chatgpt-4o-latest', created=1723515131, object='model', owned_by='system'), Model(id='gpt-4o-mini-2024-07-18', created=1721172717, object='model', owned_by='system'), Model(id='gpt-4-0125-preview', created=1706037612, object='model', owned_by='system'), Model(id='tts-1-hd', created=1699046015, object='model', owned_by='system'), Model(id='davinci-002', created=1692634301, object='model', owned_by='system'), Model(id='text-embedding-ada-002', created=1671217299, object='model', owned_by='openai-internal'), Model(id='gpt-3.5-turbo-1106', created=1698959748, object='model', owned_by='system'), Model(id='gpt-4-turbo-2024-04-09', created=1712601677, object='model', owned_by='system'), Model(id='gpt-4-turbo', created=1712361441, object='model', owned_by='system'), Model(id='tts-1', created=1681940951, object='model', owned_by='openai-internal'), Model(id='tts-1-1106', created=1699053241, object='model', owned_by='system'), Model(id='gpt-3.5-turbo-instruct-0914', created=1694122472, object='model', owned_by='system'), Model(id='gpt-4-turbo-preview', created=1706037777, object='model', owned_by='system'), Model(id='gpt-4o-mini-realtime-preview-2024-12-17', created=1734112601, object='model', owned_by='system'), Model(id='gpt-4o-audio-preview', created=1727460443, object='model', owned_by='system'), Model(id='gpt-4o-2024-05-13', created=1715368132, object='model', owned_by='system'), Model(id='text-embedding-3-small', created=1705948997, object='model', owned_by='system'), Model(id='gpt-4o-2024-11-20', created=1731975040, object='model', owned_by='system'), Model(id='text-embedding-3-large', created=1705953180, object='model', owned_by='system'), Model(id='gpt-4o-audio-preview-2024-12-17', created=1734034239, object='model', owned_by='system'), Model(id='gpt-4o-realtime-preview', created=1727659998, object='model', owned_by='system')], object='list')\n"
     ]
    }
   ],
   "source": [
    "try:\n",
    "    models = client.models.list()\n",
    "    print(models)\n",
    "except Exception as e:\n",
    "    print(f\"Error: {e}\")"
   ]
  },
  {
   "cell_type": "markdown",
   "metadata": {},
   "source": [
    "# Prompt"
   ]
  },
  {
   "cell_type": "code",
   "execution_count": 6,
   "metadata": {},
   "outputs": [],
   "source": [
    "prompt2 = \"I need help categorizing a sentence into one of the following categories: Ciberseguridad, Enlace, Impresion, Licencias, Microinformatica, Movil, Nube, Servidores, Soporte or Atm.The sentence is the following: SERVICIO MONITOREO PREVENCION FRAUDES RAPPI\""
   ]
  },
  {
   "cell_type": "markdown",
   "metadata": {},
   "source": [
    "# Component"
   ]
  },
  {
   "cell_type": "code",
   "execution_count": 7,
   "metadata": {},
   "outputs": [],
   "source": [
    "# Make the API call\n",
    "chat_completion = client.chat.completions.create(\n",
    "    messages=[\n",
    "        {\n",
    "            \"role\": \"user\",\n",
    "            \"content\": prompt2,\n",
    "        }\n",
    "    ],\n",
    "    model=\"gpt-3.5-turbo-16k\",\n",
    ")"
   ]
  },
  {
   "cell_type": "code",
   "execution_count": 8,
   "metadata": {},
   "outputs": [
    {
     "name": "stdout",
     "output_type": "stream",
     "text": [
      "Based on the sentence provided, the category would be Ciberseguridad.\n"
     ]
    }
   ],
   "source": [
    "print(chat_completion.choices[0].message.content)"
   ]
  },
  {
   "cell_type": "markdown",
   "metadata": {},
   "source": [
    "# Multiple sentences"
   ]
  },
  {
   "cell_type": "code",
   "execution_count": 35,
   "metadata": {},
   "outputs": [],
   "source": [
    "ruta_data_set = 'F:\\DOCUMENTS\\Xinergy\\Proyecto glosas\\Industria_Financiera\\Recoleccion_Datos_copy.xlsx'\n",
    "df = pd.read_excel(ruta_data_set, sheet_name='M0_Tecnologia')\n",
    "# Select only the desired columns\n",
    "df = df[['Glosa', 'Categoria M2']]"
   ]
  },
  {
   "cell_type": "code",
   "execution_count": 36,
   "metadata": {},
   "outputs": [],
   "source": [
    "df2 = df.sample(20)"
   ]
  },
  {
   "cell_type": "code",
   "execution_count": 37,
   "metadata": {},
   "outputs": [],
   "source": [
    "df3 = df2.copy()"
   ]
  },
  {
   "cell_type": "code",
   "execution_count": 38,
   "metadata": {},
   "outputs": [
    {
     "data": {
      "text/html": [
       "<div>\n",
       "<style scoped>\n",
       "    .dataframe tbody tr th:only-of-type {\n",
       "        vertical-align: middle;\n",
       "    }\n",
       "\n",
       "    .dataframe tbody tr th {\n",
       "        vertical-align: top;\n",
       "    }\n",
       "\n",
       "    .dataframe thead th {\n",
       "        text-align: right;\n",
       "    }\n",
       "</style>\n",
       "<table border=\"1\" class=\"dataframe\">\n",
       "  <thead>\n",
       "    <tr style=\"text-align: right;\">\n",
       "      <th></th>\n",
       "      <th>Glosa</th>\n",
       "      <th>Categoria M2</th>\n",
       "    </tr>\n",
       "  </thead>\n",
       "  <tbody>\n",
       "    <tr>\n",
       "      <th>2</th>\n",
       "      <td>SERVICIO IMPLEMENTACIÓN SEGURIDAD IPS</td>\n",
       "      <td>Ciberseguridad</td>\n",
       "    </tr>\n",
       "    <tr>\n",
       "      <th>22</th>\n",
       "      <td>LICENCIAS TABLEAU</td>\n",
       "      <td>Licencias</td>\n",
       "    </tr>\n",
       "    <tr>\n",
       "      <th>21</th>\n",
       "      <td>GASTOS SOPORTE PLATAFORMA DATA &amp; ANALYTICS</td>\n",
       "      <td>Licencias</td>\n",
       "    </tr>\n",
       "    <tr>\n",
       "      <th>11</th>\n",
       "      <td>GASTOS SERVICIOS DE TELECOMUNICACIONES - ENLAC...</td>\n",
       "      <td>Enlace</td>\n",
       "    </tr>\n",
       "    <tr>\n",
       "      <th>30</th>\n",
       "      <td>TELEFONOS CELULARES</td>\n",
       "      <td>Movil</td>\n",
       "    </tr>\n",
       "    <tr>\n",
       "      <th>18</th>\n",
       "      <td>DIFERIDOS BLOOMBERG (EXENTO)</td>\n",
       "      <td>Licencias</td>\n",
       "    </tr>\n",
       "    <tr>\n",
       "      <th>20</th>\n",
       "      <td>LICENCIAS SOFTWARE</td>\n",
       "      <td>Licencias</td>\n",
       "    </tr>\n",
       "    <tr>\n",
       "      <th>5</th>\n",
       "      <td>Gastos Telefonia Fija</td>\n",
       "      <td>Enlace</td>\n",
       "    </tr>\n",
       "    <tr>\n",
       "      <th>8</th>\n",
       "      <td>SERVICIOS DE TELEFONIA - LINEAS PRIVADAS</td>\n",
       "      <td>Enlace</td>\n",
       "    </tr>\n",
       "    <tr>\n",
       "      <th>52</th>\n",
       "      <td>ACCESORIOS TECNOLOGICOS NO ACTIVABLES</td>\n",
       "      <td>Microinformatica</td>\n",
       "    </tr>\n",
       "    <tr>\n",
       "      <th>1</th>\n",
       "      <td>CONSULTORIAS SEGURIDAD (EXENTO)</td>\n",
       "      <td>Ciberseguridad</td>\n",
       "    </tr>\n",
       "    <tr>\n",
       "      <th>39</th>\n",
       "      <td>00660 CONSUMO DE SERVICIOS CLOUD.</td>\n",
       "      <td>Nube</td>\n",
       "    </tr>\n",
       "    <tr>\n",
       "      <th>42</th>\n",
       "      <td>RACK COMPUTACIONAL</td>\n",
       "      <td>Servidores</td>\n",
       "    </tr>\n",
       "    <tr>\n",
       "      <th>10</th>\n",
       "      <td>00075 SERVICIO DE TELEFONÍA LOCAL CASA MATRIZ,...</td>\n",
       "      <td>Enlace</td>\n",
       "    </tr>\n",
       "    <tr>\n",
       "      <th>37</th>\n",
       "      <td>SERVICIO DE INFRAESTRUCTURA CLOUD</td>\n",
       "      <td>Nube</td>\n",
       "    </tr>\n",
       "    <tr>\n",
       "      <th>51</th>\n",
       "      <td>GASTO POR MANTENCION Y ADMINISTRACION INTE...</td>\n",
       "      <td>Atm</td>\n",
       "    </tr>\n",
       "    <tr>\n",
       "      <th>29</th>\n",
       "      <td>Gastos Telefonia Movil</td>\n",
       "      <td>Movil</td>\n",
       "    </tr>\n",
       "    <tr>\n",
       "      <th>12</th>\n",
       "      <td>SERVICIO UNIFICACIÓN ENLACES INTERNACIONALES</td>\n",
       "      <td>Enlace</td>\n",
       "    </tr>\n",
       "    <tr>\n",
       "      <th>40</th>\n",
       "      <td>00655 INFRAESTRUCTURA PAGO POR USO GREENLAKE, ...</td>\n",
       "      <td>Nube</td>\n",
       "    </tr>\n",
       "    <tr>\n",
       "      <th>43</th>\n",
       "      <td>Robots Mantención Remoto (exenta)</td>\n",
       "      <td>Soporte</td>\n",
       "    </tr>\n",
       "  </tbody>\n",
       "</table>\n",
       "</div>"
      ],
      "text/plain": [
       "                                                Glosa      Categoria M2\n",
       "2               SERVICIO IMPLEMENTACIÓN SEGURIDAD IPS    Ciberseguridad\n",
       "22                                  LICENCIAS TABLEAU         Licencias\n",
       "21         GASTOS SOPORTE PLATAFORMA DATA & ANALYTICS         Licencias\n",
       "11  GASTOS SERVICIOS DE TELECOMUNICACIONES - ENLAC...            Enlace\n",
       "30                               TELEFONOS CELULARES              Movil\n",
       "18                       DIFERIDOS BLOOMBERG (EXENTO)         Licencias\n",
       "20                                 LICENCIAS SOFTWARE         Licencias\n",
       "5                               Gastos Telefonia Fija            Enlace\n",
       "8            SERVICIOS DE TELEFONIA - LINEAS PRIVADAS            Enlace\n",
       "52              ACCESORIOS TECNOLOGICOS NO ACTIVABLES  Microinformatica\n",
       "1                     CONSULTORIAS SEGURIDAD (EXENTO)    Ciberseguridad\n",
       "39                  00660 CONSUMO DE SERVICIOS CLOUD.              Nube\n",
       "42                                 RACK COMPUTACIONAL        Servidores\n",
       "10  00075 SERVICIO DE TELEFONÍA LOCAL CASA MATRIZ,...            Enlace\n",
       "37                  SERVICIO DE INFRAESTRUCTURA CLOUD              Nube\n",
       "51      GASTO POR MANTENCION Y ADMINISTRACION INTE...               Atm\n",
       "29                             Gastos Telefonia Movil             Movil\n",
       "12       SERVICIO UNIFICACIÓN ENLACES INTERNACIONALES            Enlace\n",
       "40  00655 INFRAESTRUCTURA PAGO POR USO GREENLAKE, ...              Nube\n",
       "43                  Robots Mantención Remoto (exenta)           Soporte"
      ]
     },
     "execution_count": 38,
     "metadata": {},
     "output_type": "execute_result"
    }
   ],
   "source": [
    "df3"
   ]
  },
  {
   "cell_type": "code",
   "execution_count": 39,
   "metadata": {},
   "outputs": [],
   "source": [
    "categories = [\"Ciberseguridad\", \"Enlace\", \"Impresion\", \"Licencias\", \"Microinformatica\", \n",
    "              \"Movil\", \"Nube\", \"Servidores\", \"Soporte\", \"Atm\"]"
   ]
  },
  {
   "cell_type": "code",
   "execution_count": 42,
   "metadata": {},
   "outputs": [],
   "source": [
    "# Define a function to query OpenAI API for categorization\n",
    "def categorize_sentence(sentence, categories):\n",
    "    # Build the prompt\n",
    "    prompt = f\"\"\"\n",
    "        You are a categorization assistant. Classify the following sentence into one of these categories: {', '.join(categories)}. \n",
    "        Only choose a category from the provided list. If the sentence doesn't fit any category, respond with 'Unknown'.\n",
    "\n",
    "        Sentence: {sentence}\n",
    "\n",
    "        Category:\n",
    "        \"\"\"\n",
    "    \n",
    "    # Make the API call\n",
    "    try:\n",
    "        chat_completion = client.chat.completions.create(\n",
    "        messages=[\n",
    "            {\n",
    "                \"role\": \"user\",\n",
    "                \"content\": prompt,\n",
    "            }\n",
    "        ],\n",
    "        model=\"gpt-4o\",\n",
    "    )\n",
    "        # Extract the response\n",
    "        return chat_completion.choices[0].message.content.strip()\n",
    "    except Exception as e:\n",
    "        return f\"Error: {str(e)}\""
   ]
  },
  {
   "cell_type": "code",
   "execution_count": 43,
   "metadata": {},
   "outputs": [],
   "source": [
    "# Apply the function to the \"Glosa\" column and store results in a new column\n",
    "df3['Predicted_Category'] = df3['Glosa'].apply(lambda sentence: categorize_sentence(sentence, categories))"
   ]
  },
  {
   "cell_type": "code",
   "execution_count": 44,
   "metadata": {},
   "outputs": [
    {
     "data": {
      "text/html": [
       "<div>\n",
       "<style scoped>\n",
       "    .dataframe tbody tr th:only-of-type {\n",
       "        vertical-align: middle;\n",
       "    }\n",
       "\n",
       "    .dataframe tbody tr th {\n",
       "        vertical-align: top;\n",
       "    }\n",
       "\n",
       "    .dataframe thead th {\n",
       "        text-align: right;\n",
       "    }\n",
       "</style>\n",
       "<table border=\"1\" class=\"dataframe\">\n",
       "  <thead>\n",
       "    <tr style=\"text-align: right;\">\n",
       "      <th></th>\n",
       "      <th>Glosa</th>\n",
       "      <th>Categoria M2</th>\n",
       "      <th>Predicted_Category</th>\n",
       "    </tr>\n",
       "  </thead>\n",
       "  <tbody>\n",
       "    <tr>\n",
       "      <th>2</th>\n",
       "      <td>SERVICIO IMPLEMENTACIÓN SEGURIDAD IPS</td>\n",
       "      <td>Ciberseguridad</td>\n",
       "      <td>Ciberseguridad</td>\n",
       "    </tr>\n",
       "    <tr>\n",
       "      <th>22</th>\n",
       "      <td>LICENCIAS TABLEAU</td>\n",
       "      <td>Licencias</td>\n",
       "      <td>Licencias</td>\n",
       "    </tr>\n",
       "    <tr>\n",
       "      <th>21</th>\n",
       "      <td>GASTOS SOPORTE PLATAFORMA DATA &amp; ANALYTICS</td>\n",
       "      <td>Licencias</td>\n",
       "      <td>Soporte</td>\n",
       "    </tr>\n",
       "    <tr>\n",
       "      <th>11</th>\n",
       "      <td>GASTOS SERVICIOS DE TELECOMUNICACIONES - ENLAC...</td>\n",
       "      <td>Enlace</td>\n",
       "      <td>Enlace</td>\n",
       "    </tr>\n",
       "    <tr>\n",
       "      <th>30</th>\n",
       "      <td>TELEFONOS CELULARES</td>\n",
       "      <td>Movil</td>\n",
       "      <td>Movil</td>\n",
       "    </tr>\n",
       "    <tr>\n",
       "      <th>18</th>\n",
       "      <td>DIFERIDOS BLOOMBERG (EXENTO)</td>\n",
       "      <td>Licencias</td>\n",
       "      <td>Unknown</td>\n",
       "    </tr>\n",
       "    <tr>\n",
       "      <th>20</th>\n",
       "      <td>LICENCIAS SOFTWARE</td>\n",
       "      <td>Licencias</td>\n",
       "      <td>Licencias</td>\n",
       "    </tr>\n",
       "    <tr>\n",
       "      <th>5</th>\n",
       "      <td>Gastos Telefonia Fija</td>\n",
       "      <td>Enlace</td>\n",
       "      <td>Movil</td>\n",
       "    </tr>\n",
       "    <tr>\n",
       "      <th>8</th>\n",
       "      <td>SERVICIOS DE TELEFONIA - LINEAS PRIVADAS</td>\n",
       "      <td>Enlace</td>\n",
       "      <td>Movil</td>\n",
       "    </tr>\n",
       "    <tr>\n",
       "      <th>52</th>\n",
       "      <td>ACCESORIOS TECNOLOGICOS NO ACTIVABLES</td>\n",
       "      <td>Microinformatica</td>\n",
       "      <td>Unknown</td>\n",
       "    </tr>\n",
       "    <tr>\n",
       "      <th>1</th>\n",
       "      <td>CONSULTORIAS SEGURIDAD (EXENTO)</td>\n",
       "      <td>Ciberseguridad</td>\n",
       "      <td>Ciberseguridad</td>\n",
       "    </tr>\n",
       "    <tr>\n",
       "      <th>39</th>\n",
       "      <td>00660 CONSUMO DE SERVICIOS CLOUD.</td>\n",
       "      <td>Nube</td>\n",
       "      <td>Nube</td>\n",
       "    </tr>\n",
       "    <tr>\n",
       "      <th>42</th>\n",
       "      <td>RACK COMPUTACIONAL</td>\n",
       "      <td>Servidores</td>\n",
       "      <td>Servidores</td>\n",
       "    </tr>\n",
       "    <tr>\n",
       "      <th>10</th>\n",
       "      <td>00075 SERVICIO DE TELEFONÍA LOCAL CASA MATRIZ,...</td>\n",
       "      <td>Enlace</td>\n",
       "      <td>Enlace</td>\n",
       "    </tr>\n",
       "    <tr>\n",
       "      <th>37</th>\n",
       "      <td>SERVICIO DE INFRAESTRUCTURA CLOUD</td>\n",
       "      <td>Nube</td>\n",
       "      <td>Nube</td>\n",
       "    </tr>\n",
       "    <tr>\n",
       "      <th>51</th>\n",
       "      <td>GASTO POR MANTENCION Y ADMINISTRACION INTE...</td>\n",
       "      <td>Atm</td>\n",
       "      <td>Atm</td>\n",
       "    </tr>\n",
       "    <tr>\n",
       "      <th>29</th>\n",
       "      <td>Gastos Telefonia Movil</td>\n",
       "      <td>Movil</td>\n",
       "      <td>Movil</td>\n",
       "    </tr>\n",
       "    <tr>\n",
       "      <th>12</th>\n",
       "      <td>SERVICIO UNIFICACIÓN ENLACES INTERNACIONALES</td>\n",
       "      <td>Enlace</td>\n",
       "      <td>Enlace</td>\n",
       "    </tr>\n",
       "    <tr>\n",
       "      <th>40</th>\n",
       "      <td>00655 INFRAESTRUCTURA PAGO POR USO GREENLAKE, ...</td>\n",
       "      <td>Nube</td>\n",
       "      <td>Servidores</td>\n",
       "    </tr>\n",
       "    <tr>\n",
       "      <th>43</th>\n",
       "      <td>Robots Mantención Remoto (exenta)</td>\n",
       "      <td>Soporte</td>\n",
       "      <td>Unknown</td>\n",
       "    </tr>\n",
       "  </tbody>\n",
       "</table>\n",
       "</div>"
      ],
      "text/plain": [
       "                                                Glosa      Categoria M2  \\\n",
       "2               SERVICIO IMPLEMENTACIÓN SEGURIDAD IPS    Ciberseguridad   \n",
       "22                                  LICENCIAS TABLEAU         Licencias   \n",
       "21         GASTOS SOPORTE PLATAFORMA DATA & ANALYTICS         Licencias   \n",
       "11  GASTOS SERVICIOS DE TELECOMUNICACIONES - ENLAC...            Enlace   \n",
       "30                               TELEFONOS CELULARES              Movil   \n",
       "18                       DIFERIDOS BLOOMBERG (EXENTO)         Licencias   \n",
       "20                                 LICENCIAS SOFTWARE         Licencias   \n",
       "5                               Gastos Telefonia Fija            Enlace   \n",
       "8            SERVICIOS DE TELEFONIA - LINEAS PRIVADAS            Enlace   \n",
       "52              ACCESORIOS TECNOLOGICOS NO ACTIVABLES  Microinformatica   \n",
       "1                     CONSULTORIAS SEGURIDAD (EXENTO)    Ciberseguridad   \n",
       "39                  00660 CONSUMO DE SERVICIOS CLOUD.              Nube   \n",
       "42                                 RACK COMPUTACIONAL        Servidores   \n",
       "10  00075 SERVICIO DE TELEFONÍA LOCAL CASA MATRIZ,...            Enlace   \n",
       "37                  SERVICIO DE INFRAESTRUCTURA CLOUD              Nube   \n",
       "51      GASTO POR MANTENCION Y ADMINISTRACION INTE...               Atm   \n",
       "29                             Gastos Telefonia Movil             Movil   \n",
       "12       SERVICIO UNIFICACIÓN ENLACES INTERNACIONALES            Enlace   \n",
       "40  00655 INFRAESTRUCTURA PAGO POR USO GREENLAKE, ...              Nube   \n",
       "43                  Robots Mantención Remoto (exenta)           Soporte   \n",
       "\n",
       "   Predicted_Category  \n",
       "2      Ciberseguridad  \n",
       "22          Licencias  \n",
       "21            Soporte  \n",
       "11             Enlace  \n",
       "30              Movil  \n",
       "18            Unknown  \n",
       "20          Licencias  \n",
       "5               Movil  \n",
       "8               Movil  \n",
       "52            Unknown  \n",
       "1      Ciberseguridad  \n",
       "39               Nube  \n",
       "42         Servidores  \n",
       "10             Enlace  \n",
       "37               Nube  \n",
       "51                Atm  \n",
       "29              Movil  \n",
       "12             Enlace  \n",
       "40         Servidores  \n",
       "43            Unknown  "
      ]
     },
     "execution_count": 44,
     "metadata": {},
     "output_type": "execute_result"
    }
   ],
   "source": [
    "df3"
   ]
  }
 ],
 "metadata": {
  "kernelspec": {
   "display_name": "Python 3",
   "language": "python",
   "name": "python3"
  },
  "language_info": {
   "codemirror_mode": {
    "name": "ipython",
    "version": 3
   },
   "file_extension": ".py",
   "mimetype": "text/x-python",
   "name": "python",
   "nbconvert_exporter": "python",
   "pygments_lexer": "ipython3",
   "version": "3.11.3"
  }
 },
 "nbformat": 4,
 "nbformat_minor": 2
}
