{
 "cells": [
  {
   "cell_type": "markdown",
   "metadata": {},
   "source": [
    "# Imports and dependencies"
   ]
  },
  {
   "cell_type": "code",
   "execution_count": 1,
   "metadata": {},
   "outputs": [],
   "source": [
    "import os\n",
    "import logging\n",
    "import pandas as pd\n",
    "from dotenv import load_dotenv\n",
    "from langchain_community.vectorstores import Chroma\n",
    "from langchain_openai import OpenAIEmbeddings, ChatOpenAI\n",
    "from langchain.prompts import ChatPromptTemplate"
   ]
  },
  {
   "cell_type": "markdown",
   "metadata": {},
   "source": [
    "# OpenAI key"
   ]
  },
  {
   "cell_type": "code",
   "execution_count": 2,
   "metadata": {},
   "outputs": [
    {
     "data": {
      "text/plain": [
       "True"
      ]
     },
     "execution_count": 2,
     "metadata": {},
     "output_type": "execute_result"
    }
   ],
   "source": [
    "load_dotenv()\n"
   ]
  },
  {
   "cell_type": "code",
   "execution_count": 15,
   "metadata": {},
   "outputs": [],
   "source": [
    "# Use ChatOpenAI for chat-based models like GPT-4\n",
    "client = ChatOpenAI(model=\"gpt-3.5-turbo\", temperature=0)"
   ]
  },
  {
   "cell_type": "markdown",
   "metadata": {},
   "source": [
    "# Prompt"
   ]
  },
  {
   "cell_type": "code",
   "execution_count": 8,
   "metadata": {},
   "outputs": [],
   "source": [
    "prompt2 = \"I need help categorizing a sentence into one of the following categories: Ciberseguridad, Enlace, Impresion, Licencias, Microinformatica, Movil, Nube, Servidores, Soporte or Atm.The sentence is the following: SERVICIO MONITOREO PREVENCION FRAUDES RAPPI\""
   ]
  },
  {
   "cell_type": "markdown",
   "metadata": {},
   "source": [
    "# Component"
   ]
  },
  {
   "cell_type": "code",
   "execution_count": 16,
   "metadata": {},
   "outputs": [],
   "source": [
    "# Make the API call\n",
    "chat_completion = client.invoke([\n",
    "    {\"role\": \"user\", \"content\": prompt2}\n",
    "])\n"
   ]
  },
  {
   "cell_type": "code",
   "execution_count": 18,
   "metadata": {},
   "outputs": [
    {
     "name": "stdout",
     "output_type": "stream",
     "text": [
      "Ciberseguridad\n"
     ]
    }
   ],
   "source": [
    "print(chat_completion.content) \n"
   ]
  },
  {
   "cell_type": "markdown",
   "metadata": {},
   "source": [
    "# Multiple sentences"
   ]
  },
  {
   "cell_type": "code",
   "execution_count": 88,
   "metadata": {},
   "outputs": [],
   "source": [
    "ruta_data_set = 'F:\\DOCUMENTS\\Xinergy\\Proyecto glosas\\LangChain\\Project1\\Glosas_Test_100.xlsx'\n",
    "df = pd.read_excel(ruta_data_set, sheet_name='Sheet1')\n",
    "# Select only the desired columns\n",
    "df = df[['Glosa', 'Categoria M2']]"
   ]
  },
  {
   "cell_type": "code",
   "execution_count": 46,
   "metadata": {},
   "outputs": [],
   "source": [
    "#df2 = df.sample(10)"
   ]
  },
  {
   "cell_type": "code",
   "execution_count": 47,
   "metadata": {},
   "outputs": [],
   "source": [
    "#df3 = df2.copy()"
   ]
  },
  {
   "cell_type": "code",
   "execution_count": 89,
   "metadata": {},
   "outputs": [],
   "source": [
    "df3 = df.copy()"
   ]
  },
  {
   "cell_type": "code",
   "execution_count": 90,
   "metadata": {},
   "outputs": [
    {
     "data": {
      "text/html": [
       "<div>\n",
       "<style scoped>\n",
       "    .dataframe tbody tr th:only-of-type {\n",
       "        vertical-align: middle;\n",
       "    }\n",
       "\n",
       "    .dataframe tbody tr th {\n",
       "        vertical-align: top;\n",
       "    }\n",
       "\n",
       "    .dataframe thead th {\n",
       "        text-align: right;\n",
       "    }\n",
       "</style>\n",
       "<table border=\"1\" class=\"dataframe\">\n",
       "  <thead>\n",
       "    <tr style=\"text-align: right;\">\n",
       "      <th></th>\n",
       "      <th>Glosa</th>\n",
       "      <th>Categoria M2</th>\n",
       "    </tr>\n",
       "  </thead>\n",
       "  <tbody>\n",
       "    <tr>\n",
       "      <th>0</th>\n",
       "      <td>SERVICIOS PARA LA ADMINISTRACIÓN Y SOPORTE DE ATM</td>\n",
       "      <td>Atm</td>\n",
       "    </tr>\n",
       "    <tr>\n",
       "      <th>1</th>\n",
       "      <td>SERVICIO IMPLEMENTACIÓN SEGURIDAD IPS</td>\n",
       "      <td>Ciberseguridad</td>\n",
       "    </tr>\n",
       "    <tr>\n",
       "      <th>2</th>\n",
       "      <td>SERV EXTER SUBCONTRATADO SEGURIDAD TECNOLOGICA...</td>\n",
       "      <td>Ciberseguridad</td>\n",
       "    </tr>\n",
       "    <tr>\n",
       "      <th>3</th>\n",
       "      <td>ANEXO 12 PHISHING TASK FORCE</td>\n",
       "      <td>Ciberseguridad</td>\n",
       "    </tr>\n",
       "    <tr>\n",
       "      <th>4</th>\n",
       "      <td>SERV MONITOREO PREV FRAUDES</td>\n",
       "      <td>Ciberseguridad</td>\n",
       "    </tr>\n",
       "    <tr>\n",
       "      <th>...</th>\n",
       "      <td>...</td>\n",
       "      <td>...</td>\n",
       "    </tr>\n",
       "    <tr>\n",
       "      <th>95</th>\n",
       "      <td>SERVICIO DE MANTENCIÓN REMOTA PARA ROBOTS</td>\n",
       "      <td>Soporte</td>\n",
       "    </tr>\n",
       "    <tr>\n",
       "      <th>96</th>\n",
       "      <td>REPARACIONES EN DATA CENTER – GG</td>\n",
       "      <td>Soporte</td>\n",
       "    </tr>\n",
       "    <tr>\n",
       "      <th>97</th>\n",
       "      <td>SERVICIOS DE SOPORTE Y MESA DE AYUDA (AFECTO A...</td>\n",
       "      <td>Soporte</td>\n",
       "    </tr>\n",
       "    <tr>\n",
       "      <th>98</th>\n",
       "      <td>MANTENCIÓN DEL DATA CENTER – AA</td>\n",
       "      <td>Soporte</td>\n",
       "    </tr>\n",
       "    <tr>\n",
       "      <th>99</th>\n",
       "      <td>SERVICIO DE RESPALDOS Y RECUPERACIÓN DE PLATAF...</td>\n",
       "      <td>Soporte</td>\n",
       "    </tr>\n",
       "  </tbody>\n",
       "</table>\n",
       "<p>100 rows × 2 columns</p>\n",
       "</div>"
      ],
      "text/plain": [
       "                                                Glosa    Categoria M2\n",
       "0   SERVICIOS PARA LA ADMINISTRACIÓN Y SOPORTE DE ATM             Atm\n",
       "1               SERVICIO IMPLEMENTACIÓN SEGURIDAD IPS  Ciberseguridad\n",
       "2   SERV EXTER SUBCONTRATADO SEGURIDAD TECNOLOGICA...  Ciberseguridad\n",
       "3                        ANEXO 12 PHISHING TASK FORCE  Ciberseguridad\n",
       "4                         SERV MONITOREO PREV FRAUDES  Ciberseguridad\n",
       "..                                                ...             ...\n",
       "95         SERVICIO DE MANTENCIÓN REMOTA PARA ROBOTS          Soporte\n",
       "96                  REPARACIONES EN DATA CENTER – GG          Soporte\n",
       "97  SERVICIOS DE SOPORTE Y MESA DE AYUDA (AFECTO A...         Soporte\n",
       "98                   MANTENCIÓN DEL DATA CENTER – AA          Soporte\n",
       "99  SERVICIO DE RESPALDOS Y RECUPERACIÓN DE PLATAF...         Soporte\n",
       "\n",
       "[100 rows x 2 columns]"
      ]
     },
     "execution_count": 90,
     "metadata": {},
     "output_type": "execute_result"
    }
   ],
   "source": [
    "df3"
   ]
  },
  {
   "cell_type": "code",
   "execution_count": 91,
   "metadata": {},
   "outputs": [],
   "source": [
    "categories = [\"Ciberseguridad\", \"Enlace\", \"Impresion\", \"Licencias\", \"Microinformatica\", \n",
    "              \"Movil\", \"Nube\", \"Servidores\", \"Soporte\", \"Atm\"]"
   ]
  },
  {
   "cell_type": "code",
   "execution_count": 92,
   "metadata": {},
   "outputs": [],
   "source": [
    "# Initialize LangChain OpenAI client\n",
    "client = ChatOpenAI(model=\"gpt-3.5-turbo\", temperature=0)"
   ]
  },
  {
   "cell_type": "code",
   "execution_count": 94,
   "metadata": {},
   "outputs": [],
   "source": [
    "# Define a function to query OpenAI API for categorization\n",
    "def categorize_sentence(sentence, categories):\n",
    "    # Build the prompt\n",
    "    prompt = f\"\"\"\n",
    "        You are a categorization assistant. Classify the following sentence into one of these categories: {', '.join(categories)}. \n",
    "        Only choose a category from the provided list. You have to categorize each sentence into one of the defined categories.\n",
    "\n",
    "        Sentence: {sentence}\n",
    "\n",
    "        Category:\n",
    "    \"\"\"\n",
    "\n",
    "    # Make the API call using LangChain's `invoke()`\n",
    "    try:\n",
    "        chat_completion = client.invoke([\n",
    "            {\"role\": \"user\", \"content\": prompt}\n",
    "        ])\n",
    "        \n",
    "        # ✅ Extract response using `.content`\n",
    "        return chat_completion.content.strip()\n",
    "    \n",
    "    except Exception as e:\n",
    "        return f\"Error: {str(e)}\""
   ]
  },
  {
   "cell_type": "code",
   "execution_count": 95,
   "metadata": {},
   "outputs": [],
   "source": [
    "# Apply the function to the \"Glosa\" column and store results in a new column\n",
    "df3['Predicted_Category'] = df3['Glosa'].apply(lambda sentence: categorize_sentence(sentence, categories))"
   ]
  },
  {
   "cell_type": "code",
   "execution_count": 96,
   "metadata": {},
   "outputs": [
    {
     "data": {
      "text/html": [
       "<div>\n",
       "<style scoped>\n",
       "    .dataframe tbody tr th:only-of-type {\n",
       "        vertical-align: middle;\n",
       "    }\n",
       "\n",
       "    .dataframe tbody tr th {\n",
       "        vertical-align: top;\n",
       "    }\n",
       "\n",
       "    .dataframe thead th {\n",
       "        text-align: right;\n",
       "    }\n",
       "</style>\n",
       "<table border=\"1\" class=\"dataframe\">\n",
       "  <thead>\n",
       "    <tr style=\"text-align: right;\">\n",
       "      <th></th>\n",
       "      <th>Glosa</th>\n",
       "      <th>Categoria M2</th>\n",
       "      <th>Predicted_Category</th>\n",
       "    </tr>\n",
       "  </thead>\n",
       "  <tbody>\n",
       "    <tr>\n",
       "      <th>0</th>\n",
       "      <td>SERVICIOS PARA LA ADMINISTRACIÓN Y SOPORTE DE ATM</td>\n",
       "      <td>Atm</td>\n",
       "      <td>Soporte</td>\n",
       "    </tr>\n",
       "    <tr>\n",
       "      <th>1</th>\n",
       "      <td>SERVICIO IMPLEMENTACIÓN SEGURIDAD IPS</td>\n",
       "      <td>Ciberseguridad</td>\n",
       "      <td>Ciberseguridad</td>\n",
       "    </tr>\n",
       "    <tr>\n",
       "      <th>2</th>\n",
       "      <td>SERV EXTER SUBCONTRATADO SEGURIDAD TECNOLOGICA...</td>\n",
       "      <td>Ciberseguridad</td>\n",
       "      <td>Servidores</td>\n",
       "    </tr>\n",
       "    <tr>\n",
       "      <th>3</th>\n",
       "      <td>ANEXO 12 PHISHING TASK FORCE</td>\n",
       "      <td>Ciberseguridad</td>\n",
       "      <td>Ciberseguridad</td>\n",
       "    </tr>\n",
       "    <tr>\n",
       "      <th>4</th>\n",
       "      <td>SERV MONITOREO PREV FRAUDES</td>\n",
       "      <td>Ciberseguridad</td>\n",
       "      <td>Ciberseguridad</td>\n",
       "    </tr>\n",
       "    <tr>\n",
       "      <th>...</th>\n",
       "      <td>...</td>\n",
       "      <td>...</td>\n",
       "      <td>...</td>\n",
       "    </tr>\n",
       "    <tr>\n",
       "      <th>95</th>\n",
       "      <td>SERVICIO DE MANTENCIÓN REMOTA PARA ROBOTS</td>\n",
       "      <td>Soporte</td>\n",
       "      <td>Servidores</td>\n",
       "    </tr>\n",
       "    <tr>\n",
       "      <th>96</th>\n",
       "      <td>REPARACIONES EN DATA CENTER – GG</td>\n",
       "      <td>Soporte</td>\n",
       "      <td>Servidores</td>\n",
       "    </tr>\n",
       "    <tr>\n",
       "      <th>97</th>\n",
       "      <td>SERVICIOS DE SOPORTE Y MESA DE AYUDA (AFECTO A...</td>\n",
       "      <td>Soporte</td>\n",
       "      <td>Soporte</td>\n",
       "    </tr>\n",
       "    <tr>\n",
       "      <th>98</th>\n",
       "      <td>MANTENCIÓN DEL DATA CENTER – AA</td>\n",
       "      <td>Soporte</td>\n",
       "      <td>Servidores</td>\n",
       "    </tr>\n",
       "    <tr>\n",
       "      <th>99</th>\n",
       "      <td>SERVICIO DE RESPALDOS Y RECUPERACIÓN DE PLATAF...</td>\n",
       "      <td>Soporte</td>\n",
       "      <td>Servidores</td>\n",
       "    </tr>\n",
       "  </tbody>\n",
       "</table>\n",
       "<p>100 rows × 3 columns</p>\n",
       "</div>"
      ],
      "text/plain": [
       "                                                Glosa    Categoria M2  \\\n",
       "0   SERVICIOS PARA LA ADMINISTRACIÓN Y SOPORTE DE ATM             Atm   \n",
       "1               SERVICIO IMPLEMENTACIÓN SEGURIDAD IPS  Ciberseguridad   \n",
       "2   SERV EXTER SUBCONTRATADO SEGURIDAD TECNOLOGICA...  Ciberseguridad   \n",
       "3                        ANEXO 12 PHISHING TASK FORCE  Ciberseguridad   \n",
       "4                         SERV MONITOREO PREV FRAUDES  Ciberseguridad   \n",
       "..                                                ...             ...   \n",
       "95         SERVICIO DE MANTENCIÓN REMOTA PARA ROBOTS          Soporte   \n",
       "96                  REPARACIONES EN DATA CENTER – GG          Soporte   \n",
       "97  SERVICIOS DE SOPORTE Y MESA DE AYUDA (AFECTO A...         Soporte   \n",
       "98                   MANTENCIÓN DEL DATA CENTER – AA          Soporte   \n",
       "99  SERVICIO DE RESPALDOS Y RECUPERACIÓN DE PLATAF...         Soporte   \n",
       "\n",
       "   Predicted_Category  \n",
       "0             Soporte  \n",
       "1      Ciberseguridad  \n",
       "2          Servidores  \n",
       "3      Ciberseguridad  \n",
       "4      Ciberseguridad  \n",
       "..                ...  \n",
       "95         Servidores  \n",
       "96         Servidores  \n",
       "97            Soporte  \n",
       "98         Servidores  \n",
       "99         Servidores  \n",
       "\n",
       "[100 rows x 3 columns]"
      ]
     },
     "execution_count": 96,
     "metadata": {},
     "output_type": "execute_result"
    }
   ],
   "source": [
    "df3"
   ]
  },
  {
   "cell_type": "code",
   "execution_count": 97,
   "metadata": {},
   "outputs": [],
   "source": [
    "df3.to_excel(r'F:\\DOCUMENTS\\Xinergy\\Proyecto glosas\\results_Test_100_Categorized.xlsx', index=False)\n",
    "\t"
   ]
  }
 ],
 "metadata": {
  "kernelspec": {
   "display_name": "Python 3",
   "language": "python",
   "name": "python3"
  },
  "language_info": {
   "codemirror_mode": {
    "name": "ipython",
    "version": 3
   },
   "file_extension": ".py",
   "mimetype": "text/x-python",
   "name": "python",
   "nbconvert_exporter": "python",
   "pygments_lexer": "ipython3",
   "version": "3.11.3"
  }
 },
 "nbformat": 4,
 "nbformat_minor": 2
}
